{
 "cells": [
  {
   "cell_type": "markdown",
   "id": "d3732981",
   "metadata": {},
   "source": [
    "\n",
    "## MultiAgentAlgo 2"
   ]
  },
  {
   "cell_type": "code",
   "execution_count": null,
   "id": "e9f54f3d",
   "metadata": {},
   "outputs": [],
   "source": [
    "import sys\n",
    "sys.path.append('pyFiles')\n",
    "from MultiAgentEnv2 import CustomEnvironment\n",
    "import networkx as nx\n",
    "import pprint\n",
    "import numpy as np\n",
    "import matplotlib.pyplot as plt"
   ]
  },
  {
   "cell_type": "code",
   "execution_count": null,
   "id": "3241e5b6",
   "metadata": {},
   "outputs": [],
   "source": [
    "no_of_agents = 4\n",
    "s_values = [0] * 13**no_of_agents\n",
    "print(len(s_values))"
   ]
  },
  {
   "cell_type": "markdown",
   "id": "c3bc1f27",
   "metadata": {},
   "source": [
    "## Q(action) Value Function"
   ]
  },
  {
   "cell_type": "code",
   "execution_count": null,
   "id": "7949f0fe",
   "metadata": {},
   "outputs": [],
   "source": [
    "def q_val(env,state,action,s_values):\n",
    "    env.reset()\n",
    "    env.state = state\n",
    "    reward = 0\n",
    "    observations, rewards, terminations, truncations, infos = env.step(action)\n",
    "    s_val_index = state_index_calculator(env,observations)\n",
    "    for agent in env.possible_police:\n",
    "        reward = rewards[agent]\n",
    "    return reward + 0.9*s_values[s_val_index]"
   ]
  },
  {
   "cell_type": "markdown",
   "id": "6645263b",
   "metadata": {},
   "source": [
    "## State Value Function , Max Action Function , State Index Calculator, State Calculator"
   ]
  },
  {
   "cell_type": "code",
   "execution_count": null,
   "id": "21cb661e",
   "metadata": {},
   "outputs": [],
   "source": [
    "def s_val(env,state,s_values):\n",
    "    for thief in env.possible_thieves:\n",
    "        for police in env.possible_police:\n",
    "            if state[thief] == state[police]:\n",
    "                return 0\n",
    "    q_values = []\n",
    "    for j in range(4):\n",
    "        for k in range(4):\n",
    "            for l in range(4):\n",
    "                temp_state = state.copy()\n",
    "                action = {env.possible_agents[0]:0,env.possible_agents[1]:j,env.possible_agents[2]:k,env.possible_agents[3]:l}\n",
    "                q_values.append(q_val(env,temp_state,action,s_values))\n",
    "    return max(q_values)\n",
    "\n",
    "def max_act(env,state,s_values):\n",
    "#     action = {env.possible_agents[0]:0,env.possible_agents[1]:0,env.possible_agents[2]:0,env.possible_agents[3]:0}\n",
    "#     for thief in env.possible_thieves:\n",
    "#         for police in env.possible_police:\n",
    "#             if state[thief] == state[police]:\n",
    "#                 return action\n",
    "    q_values = []\n",
    "    actions = []\n",
    "    temp_state = state.copy()\n",
    "    for j in range(4):\n",
    "        for k in range(4):\n",
    "            for l in range(4):\n",
    "                temp_state = state.copy()\n",
    "                action = {env.possible_agents[0]:0,env.possible_agents[1]:j,env.possible_agents[2]:k,env.possible_agents[3]:l}\n",
    "                q_values.append(q_val(env,temp_state,action,s_values))\n",
    "                actions.append(action)\n",
    "    max_val = max(q_values)\n",
    "    max_val_index = q_values.index(max_val)\n",
    "    env.state = state\n",
    "    return actions[max_val_index]\n",
    "\n",
    "def state_index_calculator(env,state):\n",
    "    multiplier = 1\n",
    "    state_index = 0\n",
    "    for agent in env.possible_agents:\n",
    "        state_index += env.node_inv_dict[state[agent]]* multiplier\n",
    "        multiplier *= 13\n",
    "    return state_index\n",
    "\n",
    "def state_calculator(env,state_index):\n",
    "    temp_state = {}\n",
    "    for n in range (4):\n",
    "        temp_state[env.possible_agents[n]] = env.node_dict[(state_index // (13**(3-n)))]\n",
    "        state_index = state_index % (13**(3-n))\n",
    "    return temp_state"
   ]
  },
  {
   "cell_type": "code",
   "execution_count": null,
   "id": "c4c1829e",
   "metadata": {},
   "outputs": [],
   "source": [
    "env  = CustomEnvironment()\n",
    "state = env.reset()\n",
    "print(state_calculator(env,0))"
   ]
  },
  {
   "cell_type": "code",
   "execution_count": null,
   "id": "4e07f327",
   "metadata": {},
   "outputs": [],
   "source": [
    "def single_sweep(env,s_values):\n",
    "    temp_value_func = [0] * env.g_no_node ** 4\n",
    "    for i in range(env.g_no_node**4):\n",
    "        state= state_calculator(env,i)\n",
    "        temp_value_func[i] = s_val(env,state,s_values)\n",
    "    return temp_value_func"
   ]
  },
  {
   "cell_type": "code",
   "execution_count": null,
   "id": "8f5204d6",
   "metadata": {},
   "outputs": [],
   "source": [
    "# s_values = single_sweep(env,s_values)"
   ]
  },
  {
   "cell_type": "code",
   "execution_count": null,
   "id": "49d357f3",
   "metadata": {},
   "outputs": [],
   "source": [
    "state = env.reset()\n",
    "s_values = [0] * env.g_no_node ** 4\n",
    "delta = 0.1\n",
    "diff = 1000\n",
    "count = 0\n",
    "while (diff > delta):\n",
    "    state = env.reset()\n",
    "    temp_value_func = [v for v in s_values]\n",
    "    s_values = single_sweep(env,s_values)\n",
    "    temp_diff = 0;\n",
    "    for index in range(len(s_values)):\n",
    "        temp_diff += abs(temp_value_func[index]-s_values[index])\n",
    "    diff = temp_diff\n",
    "    plt.plot(range(13**4),s_values)\n",
    "    plt.show()\n",
    "print(s_values)\n",
    "s_values2 = [0] * env.g_no_node ** 4"
   ]
  },
  {
   "cell_type": "code",
   "execution_count": null,
   "id": "1063ea6f",
   "metadata": {},
   "outputs": [],
   "source": [
    "import seaborn as sns\n",
    "import numpy as np\n",
    "x = np.zeros((169,169))"
   ]
  },
  {
   "cell_type": "code",
   "execution_count": null,
   "id": "9e44c026",
   "metadata": {},
   "outputs": [],
   "source": [
    "for n in range(len(s_values)):\n",
    "    i = n // 169\n",
    "    j = n % 169\n",
    "    x[i,j] = s_values[n]"
   ]
  },
  {
   "cell_type": "code",
   "execution_count": null,
   "id": "5a784e74",
   "metadata": {},
   "outputs": [],
   "source": [
    "x"
   ]
  },
  {
   "cell_type": "code",
   "execution_count": null,
   "id": "7596e346",
   "metadata": {},
   "outputs": [],
   "source": [
    "sns.set(rc={'figure.figsize':(13,10)})\n",
    "sns.heatmap(x)"
   ]
  },
  {
   "cell_type": "code",
   "execution_count": null,
   "id": "72093935",
   "metadata": {},
   "outputs": [],
   "source": [
    "print(env.possible_agents)"
   ]
  },
  {
   "cell_type": "code",
   "execution_count": null,
   "id": "89cf962b",
   "metadata": {
    "scrolled": false
   },
   "outputs": [],
   "source": [
    "# running game\n",
    "\n",
    "episodes = 1    \n",
    "for episode in range(1,episodes+1):\n",
    "    state = env.reset()\n",
    "    terminations = {agent:False for agent in env.possible_agents}\n",
    "    score = {a:0 for a in env.possible_agents}\n",
    "    count = 0\n",
    "    env.temp_render(episode)\n",
    "    terminated = False\n",
    "    while not terminated:\n",
    "        action = max_act(env,state,s_values)\n",
    "        observations, rewards, terminations, truncations, infos = env.step(action)\n",
    "        state = env.state\n",
    "        env.temp_render(episode)\n",
    "        if (terminations['thief_0'] == True):\n",
    "            print('terminating episode = {}'.format(count))\n",
    "            terminated = True\n",
    "        for agent in env.agents:\n",
    "            score[agent] += rewards[agent]\n",
    "        count += 1\n",
    "    print('Episode: {} Score: {} \\n'.format(episode,score))"
   ]
  },
  {
   "cell_type": "code",
   "execution_count": null,
   "id": "dd2c5696",
   "metadata": {},
   "outputs": [],
   "source": []
  }
 ],
 "metadata": {
  "kernelspec": {
   "display_name": "Python 3 (ipykernel)",
   "language": "python",
   "name": "python3"
  },
  "language_info": {
   "codemirror_mode": {
    "name": "ipython",
    "version": 3
   },
   "file_extension": ".py",
   "mimetype": "text/x-python",
   "name": "python",
   "nbconvert_exporter": "python",
   "pygments_lexer": "ipython3",
   "version": "3.10.6"
  }
 },
 "nbformat": 4,
 "nbformat_minor": 5
}
